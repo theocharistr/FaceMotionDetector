{
 "cells": [
  {
   "cell_type": "code",
   "execution_count": null,
   "metadata": {
    "scrolled": false
   },
   "outputs": [],
   "source": [
    "import cv2 \n",
    "path = r'C:/Users/haris/Desktop/FaceMotionDetection/GreekFreak.jpg'\n",
    "  \n",
    "# Using cv2.imread() method \n",
    "# Using 0 to read image in grayscale mode: img = cv2.imread(path,0) \n",
    "img = cv2.imread(path) \n",
    "\n",
    "#face detection\n",
    "#create a Cascade Classifier Object \n",
    "face_cascade = cv2.CascadeClassifier('haarcascade_frontalface_default.xml') \n",
    "#face_cascade = cv2.CascadeClassifier('C:/Users/haris/anaconda3/envs/new/Library/etc/haarcascade_frontalface_default.xml')\n",
    "gray_img=cv2.cvtColor(img,cv2.COLOR_BGR2GRAY)\n",
    " \n",
    "#Search the coordinates of the image \n",
    "#Calling a method to search for the face rectangle coordinates and  \n",
    "#decrease  the shape value by 5%,until the face is found, smaller this value greater the accurancy\n",
    "faces=face_cascade.detectMultiScale(gray_img,scaleFactor=1.05,minNeighbors=5)\n",
    "print(type(faces))\n",
    "print(faces)\n",
    "\n",
    "for x,y,i,z in faces:\n",
    "    img=cv2.rectangle(img,(x,y),(x+i,y+z),(0,255,0),3)\n",
    "    #inpyts (image objects,,,RGB value of the rectagular outline,width of the rectangular)\n",
    "image2=cv2.resize(img,(int(img.shape[1]*2),int(img.shape[0]*2)))      \n",
    "#Double the size of the image\n",
    "# Displaying the image \n",
    "cv2.imshow('Greek Freak', image2) \n",
    "cv2.waitKey(0)\n",
    "cv2.destroyAllWindows()\n",
    "    "
   ]
  },
  {
   "cell_type": "code",
   "execution_count": null,
   "metadata": {},
   "outputs": [],
   "source": [
    "import cv2,pandas\n",
    "\n",
    "cv2.__version__#'4.4.0'\n",
    "first_frame=None\n",
    "\n",
    "df=pandas.DataFrame(columns=[\"Start\",\"End\"])\n",
    "video=cv2.VideoCapture(0)\n",
    "\n",
    "while True:\n",
    "    check, frame = video.read()\n",
    "    #This will iterate through the frames and display the window\n",
    "    gray=cv2.cvtColor(frame,cv2.COLOR_BGR2GRAY)#cpnvert each frame into a gray scale image\n",
    "    gray=cv2.GaussianBlur(gray,(21,21),0)\n",
    "\n",
    "    if first_frame is None:\n",
    "        first_frame=gray\n",
    "        continue\n",
    "  \n",
    "    ret, thresh = cv2.threshold(gray, 127, 255, 0)\n",
    "    #Define the contour area, add the borders\n",
    "    cnts, hierarchy = cv2.findContours(thresh, cv2.RETR_TREE, cv2.CHAIN_APPROX_SIMPLE)\n",
    "\n",
    "    for contour in cnts:\n",
    "        ##Remove shadows and noises,basically it will keep that part white which has area greater than 10000pixels\n",
    "        if cv2.contourArea(contour) < 1000: \n",
    "            continue\n",
    "        #Creates a rectangular box around the object to the frame\n",
    "        (x, y, w, h)=cv2.boundingRect(contour)\n",
    "        cv2.rectangle(frame, (x, y), (x+w, y+h), (0,255,0), 3)\n",
    "    \n",
    "    cv2.imshow(\"Gray Frame\",gray)\n",
    "    cv2.imshow(\"Threshold Frame\",thresh)\n",
    "    cv2.imshow(\"Color Frame\",frame)\n",
    "    key=cv2.waitKey(1)#This will generate a new frame after every 1 milliseconds\n",
    "\n",
    "    if key==ord('q'): #Once you enter 'q' the window will get destroyed\n",
    "        break\n",
    "\n",
    "video.release()\n",
    "cv2.destroyAllWindows"
   ]
  },
  {
   "cell_type": "code",
   "execution_count": null,
   "metadata": {},
   "outputs": [],
   "source": []
  }
 ],
 "metadata": {
  "kernelspec": {
   "display_name": "Python [conda env:new] *",
   "language": "python",
   "name": "conda-env-new-py"
  }
 },
 "nbformat": 4,
 "nbformat_minor": 4
}
